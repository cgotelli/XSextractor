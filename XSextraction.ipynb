{
 "cells": [
  {
   "cell_type": "markdown",
   "id": "83602009-8183-4680-ad26-1fb258159719",
   "metadata": {},
   "source": [
    "# Cross section extraction\n",
    "\n",
    "*Gotelli, C. - April, 2023*\n",
    "\n",
    "This program automatically retrieves elevation data from river cross sections (XS). It achieves this by using Iber's river simulation to obtain a water network, which serves as an estimation of the Thalweg. The program then automatically calculates cross sections along the Thalweg and exports the elevation of each cross section as a separate file. To operate, the program requires the river's DEM file and Iber's raster output as inputs.\n"
   ]
  },
  {
   "cell_type": "code",
   "execution_count": 6,
   "id": "533b1fdc-26a3-4a50-9268-12c0400fe109",
   "metadata": {
    "tags": []
   },
   "outputs": [],
   "source": [
    "# Packages\n",
    "import functions as f\n",
    "import numpy as np\n",
    "import pandas as pd\n",
    "import geopandas as gpd\n",
    "import rasterio\n",
    "import matplotlib.pyplot as plt\n",
    "from os.path import join\n",
    "from rivgraph.classes import river\n",
    "import jupyter_black\n",
    "\n",
    "jupyter_black.load()\n",
    "import warnings\n",
    "\n",
    "warnings.filterwarnings(\"ignore\")"
   ]
  },
  {
   "cell_type": "markdown",
   "id": "0ccab4b0-7e22-4e7a-acb5-b283ab11315a",
   "metadata": {
    "tags": []
   },
   "source": [
    "Files are stored inside different folders, keeping the original name of the DSM as ID. The directory tree should be:\n",
    "```\n",
    "Main folder\n",
    "├───01DSM\n",
    "├───02IberOutput\n",
    "├───03Masks*\n",
    "└───04XS*\n",
    "    ├───ReachCenterlines\n",
    "    ├───XSshapefiles\n",
    "    └───XSelevations\n",
    "        ├───XSfile01\n",
    "        └───XSfile02\n",
    "                .\n",
    "                .\n",
    "                .\n",
    "```\n",
    "> *: These folders are automatically created and do not require any intervention.\n",
    "\n",
    "The content of each folder is as follows:\n",
    "- **01DSM:** Original DSM files,\n",
    "- **02IberOutput:** Iber's simulation RASTER output. It can be any type of output (discharge, water height, etc.), \n",
    "- **03Masks:** Mask images for water surface. Pixels with water with value equal to 1. Dry pixels with value 0.\n",
    "- **04XS:**\n",
    "    - **ReachCenterlines:** Shapefiles of the centerline computed from water surface masks,\n",
    "    - **XSshapefiles:** Shapefiles of all cross sections,\n",
    "    - **XSelevations:** Subfolders containing CSV files with the elevation of each cross section.  "
   ]
  },
  {
   "cell_type": "code",
   "execution_count": 7,
   "id": "9965953f-4850-46ee-aa11-3ac415086d14",
   "metadata": {
    "tags": []
   },
   "outputs": [],
   "source": [
    "# Files' paths\n",
    "mainFolder = (\n",
    "    r\"C:\\Users\\EPFL-LHE\\Desktop\\CA\"  # Main folder in the folder structure shown up.\n",
    ")"
   ]
  },
  {
   "cell_type": "markdown",
   "id": "b3a0a82f-3a5b-4cd4-b477-78351c5edfd1",
   "metadata": {
    "tags": []
   },
   "source": [
    "## Iber output to Mask"
   ]
  },
  {
   "cell_type": "code",
   "execution_count": 8,
   "id": "f7ef7d18-4fe5-4a59-a2c9-62848c534a2f",
   "metadata": {
    "tags": []
   },
   "outputs": [
    {
     "name": "stdout",
     "output_type": "stream",
     "text": [
      "----------------------\n",
      "Pre process started.\n",
      "\n",
      "\t - Processing raster: Navizence20230401.asc\n",
      "\t - Processing raster: Navizence20230402.asc\n",
      "\n",
      "Pre process finished.\n",
      "----------------------\n",
      "\n"
     ]
    }
   ],
   "source": [
    "f.preprocess(join(mainFolder, \"02IberOutput\"), \".asc\", 0, False)"
   ]
  },
  {
   "cell_type": "markdown",
   "id": "79788d0e-7b84-4a4c-a93d-c68984e1d5ff",
   "metadata": {},
   "source": [
    "## Centerline and Cross sections"
   ]
  },
  {
   "cell_type": "code",
   "execution_count": 9,
   "id": "9993afc7-ad74-450d-8e94-de9f2c341517",
   "metadata": {
    "tags": []
   },
   "outputs": [],
   "source": [
    "# Parameters\n",
    "direction = \"SN\"  # Flow direction. The first character is the upstream side's cardinal direction.\n",
    "XShalfwidth = 50  # Length of the cross section measured from the center to its extreme.\n",
    "smooth = 0.25  # How smooth is the curvature followed by the Cross Sections (greater value -> smoother).\n",
    "dist = 50  #"
   ]
  },
  {
   "cell_type": "code",
   "execution_count": 10,
   "id": "98f45436-0400-4641-9d59-023fff9d906c",
   "metadata": {
    "tags": []
   },
   "outputs": [
    {
     "name": "stdout",
     "output_type": "stream",
     "text": [
      "----------------------------------------\n",
      "Computing centerline and cross sections.\n",
      "----------------------------------------\n",
      "\n",
      "- Processing mask: Navizence20230401_mask.tif\n",
      "---------- New Run ----------\n",
      "Skeletonizing mask...\n",
      "skeletonization is done.\n",
      "Computing centerline...\n",
      "centerline computation is done.\n",
      "Resolving links and nodes...\n",
      "links and nodes have been resolved.\n",
      "Computing distance transform...\n",
      "distance transform done.\n",
      "Computing link widths and lengths...\n",
      "link widths and lengths computed.\n",
      "Generating mesh...\n",
      "mesh generation is done.\n",
      "\n",
      "- Processing mask: Navizence20230402_mask.tif\n",
      "---------- New Run ----------\n",
      "Skeletonizing mask...\n",
      "skeletonization is done.\n",
      "Computing centerline...\n",
      "centerline computation is done.\n",
      "Resolving links and nodes...\n",
      "links and nodes have been resolved.\n",
      "Computing distance transform...\n",
      "distance transform done.\n",
      "Computing link widths and lengths...\n",
      "link widths and lengths computed.\n",
      "Generating mesh...\n",
      "mesh generation is done.\n",
      "\n",
      "-------\n",
      "Finished.\n",
      "---------\n",
      "\n"
     ]
    }
   ],
   "source": [
    "f.draw(mainFolder, direction, XShalfwidth, smooth, dist)"
   ]
  },
  {
   "cell_type": "markdown",
   "id": "d44c1fde-1400-4754-a13b-92548e4ccb2b",
   "metadata": {},
   "source": [
    "## Exporting to files"
   ]
  },
  {
   "cell_type": "code",
   "execution_count": null,
   "id": "6a75bdf1-4004-420a-829e-925000316ff1",
   "metadata": {
    "tags": []
   },
   "outputs": [],
   "source": [
    "n_points = 100  # Number of points per XS\n",
    "printXS = False  # Save XS as png\n",
    "f.extractXS(mainFolder, n_points, printXS)"
   ]
  },
  {
   "cell_type": "code",
   "execution_count": null,
   "id": "7d329dda-7a91-4eb8-9630-d8bdced1b2c5",
   "metadata": {},
   "outputs": [],
   "source": []
  }
 ],
 "metadata": {
  "kernelspec": {
   "display_name": "Python 3 (ipykernel)",
   "language": "python",
   "name": "python3"
  },
  "language_info": {
   "codemirror_mode": {
    "name": "ipython",
    "version": 3
   },
   "file_extension": ".py",
   "mimetype": "text/x-python",
   "name": "python",
   "nbconvert_exporter": "python",
   "pygments_lexer": "ipython3",
   "version": "3.9.13"
  }
 },
 "nbformat": 4,
 "nbformat_minor": 5
}
